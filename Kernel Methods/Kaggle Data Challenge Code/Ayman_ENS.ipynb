{
 "cells": [
  {
   "cell_type": "code",
   "execution_count": 12,
   "metadata": {
    "collapsed": false
   },
   "outputs": [],
   "source": [
    "import numpy as np\n",
    "from sklearn.svm import SVC\n",
    "from skimage.feature import hog\n",
    "from skimage import data, color, exposure\n",
    "from skimage.color import rgb2gray\n",
    "import matplotlib.pyplot as plt\n",
    "\n",
    "#Xtr = np.genfromtxt ('/home/moriarty/Desktop/DK/ENS/kernel_methods_MVAproject-master/Xtr.csv', delimiter=\",\")\n",
    "#Xtr=Xtr[:,:-1]\n",
    "Xte = np.genfromtxt ('/home/moriarty/Desktop/DK/ENS/kernel_methods_MVAproject-master/Xte.csv', delimiter=\",\")\n",
    "Xte=Xte[:,:-1]\n",
    "#Xtrain = np.load('data/Xtrain.npy')\n",
    "#Ytrain = np.load('data/Ytrain.npy')"
   ]
  },
  {
   "cell_type": "code",
   "execution_count": 15,
   "metadata": {
    "collapsed": false
   },
   "outputs": [
    {
     "name": "stdout",
     "output_type": "stream",
     "text": [
      "(2000, 3072)\n"
     ]
    }
   ],
   "source": [
    "#Xtrain = Xtr.reshape(5000,32,32,3,order='F')\n",
    "#for i in [109,189,195]:\n",
    "#    lig = Xtrain[i,:]\n",
    "#    plt.imshow(lig)\n",
    "#    plt.show()\n",
    "#    image=rgb2gray(Xtrain[i,:])\n",
    "#    plt.imshow(image)\n",
    "#    plt.show()\n",
    "print Xte.shape\n",
    "Xtest = Xte.reshape(2000,32,32,3,order='F')"
   ]
  },
  {
   "cell_type": "code",
   "execution_count": 17,
   "metadata": {
    "collapsed": false
   },
   "outputs": [
    {
     "name": "stdout",
     "output_type": "stream",
     "text": [
      "(2000, 32, 32)\n"
     ]
    }
   ],
   "source": [
    "#L=[]\n",
    "#for i in xrange(Xtrain.shape[0]):\n",
    "#    L.append(rgb2gray(Xtrain[i,:]))\n",
    "#XtrainGrey = np.asarray(L)\n",
    "#print XtrainGrey.shape\n",
    "#for i in [109,189,195]:\n",
    "#    lig = XtrainGrey[i,:]\n",
    "#    plt.imshow(lig)\n",
    "#    plt.show()\n",
    "L=[]\n",
    "for i in xrange(Xtest.shape[0]):\n",
    "    L.append(rgb2gray(Xtest[i,:]))\n",
    "XtestGrey = np.asarray(L)\n",
    "print XtestGrey.shape"
   ]
  },
  {
   "cell_type": "code",
   "execution_count": 20,
   "metadata": {
    "collapsed": false
   },
   "outputs": [],
   "source": [
    "from sklearn.decomposition import PCA\n",
    "import numpy\n",
    "from tqdm import tqdm\n",
    "\n",
    "from fisher_vector import FisherVector\n",
    "from hog_feature_extractor import HOGFeatureExtractor\n",
    "\n",
    "class FisherFeatureExtractor:\n",
    "    \"\"\"\n",
    "    nbins: number of bins that will be used\n",
    "    unsigned: if True the sign of the angle is not considered\n",
    "    \"\"\"\n",
    "    def __init__(self, local_feature_extractor='hog', nclasses=10, nbins=9, unsigned=True):\n",
    "        self.local_feature_extractor = local_feature_extractor\n",
    "        self.nclasses = nclasses\n",
    "        self.nbins = nbins\n",
    "        self.unsigned = unsigned\n",
    "        \n",
    "    def predict(self, X):\n",
    "        assert X.ndim == 4\n",
    "        print(\"Extracting Fisher features\")\n",
    "        n = X.shape[0]\n",
    "        ret = []\n",
    "        \n",
    "        local_features = None\n",
    "        if self.local_feature_extractor == 'hog':\n",
    "            hog = HOGFeatureExtractor(nbins=self.nbins, unsigned=self.unsigned)\n",
    "            local_features = hog.predict(X, unflatten=False)\n",
    "            print local_features.shape\n",
    "            pca = PCA(n_components=66)# adjust yourself\n",
    "            pca.fit(local_features)\n",
    "            local_features = pca.transform(local_features)\n",
    "            print local_features.shape\n",
    "            local_features_fisher = local_features.reshape(5000,3,22)\n",
    "        else:\n",
    "            raise Exception(\"Unknown local feature extractor\")\n",
    "        \n",
    "        fisher_vector = FisherVector(self.nclasses)\n",
    "\n",
    "        for i in tqdm(range(n)):\n",
    "            ret.append(fisher_vector.predict(local_features_fisher[i,:,:]))\n",
    "            continue\n",
    "\n",
    "        return numpy.array(ret)\n",
    "        #pca = PCA(n_components=64)# adjust yourself\n",
    "        #pca.fit(ret)\n",
    "        #ret_pca = pca.transform(ret)\n",
    "        #return numpy.array(ret_pca)"
   ]
  },
  {
   "cell_type": "code",
   "execution_count": 21,
   "metadata": {
    "collapsed": false
   },
   "outputs": [
    {
     "name": "stderr",
     "output_type": "stream",
     "text": [
      "  0%|          | 3/5000 [00:00<03:44, 22.29it/s]"
     ]
    },
    {
     "name": "stdout",
     "output_type": "stream",
     "text": [
      "Extracting Fisher features\n",
      "Extracting HOG features\n"
     ]
    },
    {
     "name": "stderr",
     "output_type": "stream",
     "text": [
      "100%|██████████| 5000/5000 [03:25<00:00, 24.28it/s]\n"
     ]
    },
    {
     "name": "stdout",
     "output_type": "stream",
     "text": [
      "(5000, 972)\n"
     ]
    },
    {
     "name": "stderr",
     "output_type": "stream",
     "text": [
      "\r",
      "  0%|          | 0/5000 [00:00<?, ?it/s]"
     ]
    },
    {
     "name": "stdout",
     "output_type": "stream",
     "text": [
      "(5000, 66)\n"
     ]
    },
    {
     "name": "stderr",
     "output_type": "stream",
     "text": [
      "100%|██████████| 5000/5000 [20:24<00:00,  3.53it/s]\n"
     ]
    }
   ],
   "source": [
    "FFE = FisherFeatureExtractor(local_feature_extractor='hog', nclasses=10, nbins=9, unsigned=True)\n",
    "XtrainHog = FFE.predict(Xtrain)"
   ]
  },
  {
   "cell_type": "code",
   "execution_count": 5,
   "metadata": {
    "collapsed": false
   },
   "outputs": [
    {
     "ename": "NameError",
     "evalue": "name 'local_features' is not defined",
     "output_type": "error",
     "traceback": [
      "\u001b[0;31m---------------------------------------------------------------------------\u001b[0m",
      "\u001b[0;31mNameError\u001b[0m                                 Traceback (most recent call last)",
      "\u001b[0;32m<ipython-input-5-b99050ef4557>\u001b[0m in \u001b[0;36m<module>\u001b[0;34m()\u001b[0m\n\u001b[0;32m----> 1\u001b[0;31m \u001b[0;32mprint\u001b[0m \u001b[0mlocal_features\u001b[0m\u001b[0;34m.\u001b[0m\u001b[0mshape\u001b[0m\u001b[0;34m\u001b[0m\u001b[0m\n\u001b[0m",
      "\u001b[0;31mNameError\u001b[0m: name 'local_features' is not defined"
     ]
    }
   ],
   "source": [
    "print local_features.shape"
   ]
  },
  {
   "cell_type": "code",
   "execution_count": 21,
   "metadata": {
    "collapsed": false
   },
   "outputs": [],
   "source": [
    "#L=[]\n",
    "#for i in xrange(XtrainGrey.shape[0]):\n",
    "#    L.append(hog(XtrainGrey[i,:], orientations=9,pixels_per_cell=(6, 6)))\n",
    "##, pixels_per_cell=(2, 2),cells_per_block=(4, 4))\n",
    "#XtrainHOG = np.asarray(L)\n",
    "L=[]\n",
    "for i in xrange(XtestGrey.shape[0]):\n",
    "    L.append(hog(XtestGrey[i,:], orientations=9,pixels_per_cell=(6, 6)))\n",
    "#, pixels_per_cell=(2, 2),cells_per_block=(4, 4))\n",
    "XtestHOG = np.asarray(L)"
   ]
  },
  {
   "cell_type": "code",
   "execution_count": 9,
   "metadata": {
    "collapsed": false
   },
   "outputs": [
    {
     "name": "stdout",
     "output_type": "stream",
     "text": [
      "(5000, 1)\n"
     ]
    }
   ],
   "source": [
    "#numpy.save('data/XtrainHog_pca_fisher', XtrainHog)\n",
    "#print XtrainHog.shape\n",
    "Ytr = np.genfromtxt ('/home/moriarty/Desktop/DK/ENS/kernel_methods_MVAproject-master/Ytr.csv', delimiter=\",\",skip_header=1)\n",
    "Ytr=Ytr[:,1]\n",
    "Ytr=np.array([Ytr])\n",
    "print Ytr.T.shape"
   ]
  },
  {
   "cell_type": "code",
   "execution_count": 18,
   "metadata": {
    "collapsed": false
   },
   "outputs": [
    {
     "name": "stdout",
     "output_type": "stream",
     "text": [
      "(1, 5000)\n",
      "(5000, 729)\n",
      "C 0.1\n",
      "accuracy on test 0.132505175983\n",
      "accuracy on train 0.139811601388\n",
      "C 1\n",
      "accuracy on test 0.420289855072\n",
      "accuracy on train 0.495290034705\n",
      "C 10\n",
      "accuracy on test 0.418219461698\n",
      "accuracy on train 0.604362915221\n",
      "C 20\n",
      "accuracy on test 0.41718426501\n",
      "accuracy on train 0.64154685176\n",
      "C 50\n",
      "accuracy on test 0.413043478261\n",
      "accuracy on train 0.691373326723\n",
      "C 100\n",
      "accuracy on test 0.404761904762\n",
      "accuracy on train 0.73599405057\n",
      "C 1000\n",
      "accuracy on test 0.38198757764\n",
      "accuracy on train 0.906544372831\n",
      "C 5000\n",
      "accuracy on test 0.368530020704\n",
      "accuracy on train 0.980168567179\n",
      "C 10000\n",
      "accuracy on test 0.368530020704\n",
      "accuracy on train 0.993802677243\n",
      "C 25000\n",
      "accuracy on test 0.365424430642\n",
      "accuracy on train 0.99975210709\n",
      "C 500000\n",
      "accuracy on test 0.364389233954\n",
      "accuracy on train 1.0\n"
     ]
    }
   ],
   "source": [
    "print Ytr.shape\n",
    "print XtrainHOG.shape\n",
    "data=np.concatenate((XtrainHOG,Ytr.T),axis=1)\n",
    "msk = np.random.rand(len(data)) < 0.8\n",
    "train = data[msk]\n",
    "test = data[~msk]\n",
    "Xtrain=train[:,:-1]\n",
    "Ytrain=train[:,-1]\n",
    "Xtest=test[:,:-1]\n",
    "Ytest=test[:,-1]\n",
    "\n",
    "C_values=[0.1,1,10,20,50,100,1000,5000,10000,25000,500000]\n",
    "acc_train_list=[]\n",
    "acc_test_list=[]\n",
    "for i in C_values:\n",
    "    clf = SVC(C=i,kernel='linear',verbose=False,gamma='auto')\n",
    "    clf.fit(Xtrain, Ytrain)\n",
    "    y_hat=clf.predict(Xtest)\n",
    "    correct = np.sum(y_hat == Ytest)\n",
    "    acc=correct/float(len(y_hat))\n",
    "    acc_test_list.append(acc)\n",
    "\n",
    "    y_hat_train=clf.predict(Xtrain)\n",
    "    #y_kaggle = clf.predict()\n",
    "    correct_train = np.sum(y_hat_train == Ytrain)\n",
    "    acc_train=correct_train/float(len(y_hat_train))\n",
    "    acc_train_list.append(acc_train)\n",
    "    #print 'gamma', j\n",
    "    print 'C', i\n",
    "    print 'accuracy on test' , acc\n",
    "    print 'accuracy on train' , acc_train"
   ]
  },
  {
   "cell_type": "code",
   "execution_count": 25,
   "metadata": {
    "collapsed": false
   },
   "outputs": [
    {
     "name": "stdout",
     "output_type": "stream",
     "text": [
      "1\n",
      "5\n"
     ]
    }
   ],
   "source": [
    "C_values=[1,5]\n",
    "for i in C_values:\n",
    "    clf = SVC(C=i,kernel='linear',verbose=False,gamma='auto')\n",
    "    clf.fit(Xtrain, Ytrain)\n",
    "    y_kaggle = clf.predict(XtestHOG)\n",
    "    print i\n",
    "    np.savetxt(\"y\"+str(i)+\".csv\", y_kaggle, delimiter=\",\")"
   ]
  }
 ],
 "metadata": {
  "anaconda-cloud": {},
  "kernelspec": {
   "display_name": "Python [conda env:py27]",
   "language": "python",
   "name": "conda-env-py27-py"
  },
  "language_info": {
   "codemirror_mode": {
    "name": "ipython",
    "version": 2
   },
   "file_extension": ".py",
   "mimetype": "text/x-python",
   "name": "python",
   "nbconvert_exporter": "python",
   "pygments_lexer": "ipython2",
   "version": "2.7.13"
  }
 },
 "nbformat": 4,
 "nbformat_minor": 1
}
