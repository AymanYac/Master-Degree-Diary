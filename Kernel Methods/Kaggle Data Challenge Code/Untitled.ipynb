{
 "cells": [
  {
   "cell_type": "markdown",
   "metadata": {},
   "source": [
    "import os\n",
    "import numpy"
   ]
  },
  {
   "cell_type": "markdown",
   "metadata": {},
   "source": [
    "# 32x32 RGB Data Loading"
   ]
  },
  {
   "cell_type": "code",
   "execution_count": null,
   "metadata": {
    "collapsed": true
   },
   "outputs": [],
   "source": [
    "datapath = \"Database/\"\n",
    "if os.path.isfile(datapath+'Xtr.npy'):\n",
    "    Xtr = numpy.load(datapath+'Xtr.npy')\n",
    "else:\n",
    "    Xtr = numpy.genfromtxt(datapath+'Xtr.csv', delimiter=',')\n",
    "    Xtr = numpy.reshape(Xtr, (Xtr.shape[0], 3, 32, 32))\n",
    "    Xtr = numpy.swapaxes(Xtr, 1, 2)\n",
    "    Xtr = numpy.swapaxes(Xtr, 2, 3)\n",
    "    numpy.save(datapath+'Xtr.npy', Xtr)\n",
    "    \n",
    "if os.path.isfile(datapath+'Xte.npy'):\n",
    "    Yte = numpy.load(datapath+'Xte.npy')\n",
    "else:\n",
    "    Xte = numpy.genfromtxt(datapath+'Xte.csv', delimiter=',')\n",
    "    Xte = numpy.reshape(Xte, (Xte.shape[0], 3, 32, 32))\n",
    "    Xte = numpy.swapaxes(Xte, 1, 2)\n",
    "    Xte = numpy.swapaxes(Xte, 2, 3)\n",
    "    numpy.save(datapath+'Xte.npy', Xte)\n",
    "    \n",
    "if os.path.isfile(datapath+'Ytr.npy'):\n",
    "    Ytr = numpy.load(datapath+'Ytr.npy')\n",
    "else:\n",
    "    Ytr = numpy.genfromtxt (datapath+'Ytr.csv',delimiter=\",\",skip_header=1)\n",
    "    Ytr=Ytr[:,1]\n",
    "    Ytr=np.array([Ytr])\n",
    "    numpy.save(datapath+'Ytr.npy', Ytr)"
   ]
  },
  {
   "cell_type": "code",
   "execution_count": null,
   "metadata": {
    "collapsed": true
   },
   "outputs": [],
   "source": [
    "#Viewing 3 car pictures to verify proper data format\n",
    "for i in [109,189,195]:\n",
    "    lig = Xtr[i,:]\n",
    "    plt.imshow(lig)\n",
    "    plt.show()"
   ]
  },
  {
   "cell_type": "markdown",
   "metadata": {},
   "source": [
    "# Feature Engineering"
   ]
  },
  {
   "cell_type": "markdown",
   "metadata": {},
   "source": [
    "## KPCA on HOG local features"
   ]
  },
  {
   "cell_type": "markdown",
   "metadata": {},
   "source": [
    "### Extracting HOG local features"
   ]
  },
  {
   "cell_type": "code",
   "execution_count": null,
   "metadata": {
    "collapsed": true
   },
   "outputs": [],
   "source": []
  },
  {
   "cell_type": "code",
   "execution_count": null,
   "metadata": {
    "collapsed": true
   },
   "outputs": [],
   "source": [
    "L=[]\n",
    "sift=SIFT(10,3,0.001,10,1.6)\n",
    "for i in xrange(Xtr.shape[0]):\n",
    "    print \"processing \"+str(i)+\" of \"+str(Xtr.shape[0])\n",
    "    L.append(sift.extract(Xtr[i,:,:,:]))\n",
    "    "
   ]
  },
  {
   "cell_type": "code",
   "execution_count": null,
   "metadata": {
    "collapsed": true
   },
   "outputs": [],
   "source": [
    "feature_extractor_name = 'sift_fisher'\n",
    "overwrite_features = False\n",
    "overwrite_kpca = False\n",
    "do_kpca = True\n",
    "kpca_kernel = GaussianKernel(0.6)\n",
    "cut_percentage = 90\n",
    "if os.path.isfile(datapath+'Xtr_global.npy') and os.path.isfile(datapath+'Xte_global.npy'):\n",
    "    Xtr=numpy.load(datapath+'Xtr_global.npy')\n",
    "    Xte=numpy.load(datapath+'Xte_global.npy')\n",
    "else:\n",
    "    "
   ]
  }
 ],
 "metadata": {
  "anaconda-cloud": {},
  "kernelspec": {
   "display_name": "Python [conda env:py27]",
   "language": "python",
   "name": "conda-env-py27-py"
  },
  "language_info": {
   "codemirror_mode": {
    "name": "ipython",
    "version": 2
   },
   "file_extension": ".py",
   "mimetype": "text/x-python",
   "name": "python",
   "nbconvert_exporter": "python",
   "pygments_lexer": "ipython2",
   "version": "2.7.13"
  }
 },
 "nbformat": 4,
 "nbformat_minor": 1
}
